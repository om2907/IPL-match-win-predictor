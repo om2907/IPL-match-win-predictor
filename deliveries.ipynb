{
 "cells": [
  {
   "cell_type": "code",
   "execution_count": 9,
   "id": "8c65583d",
   "metadata": {},
   "outputs": [],
   "source": [
    "import os\n",
    "import json\n",
    "import pandas as pd\n",
    "from datetime import datetime\n",
    "\n",
    "pd.set_option('display.max_rows', None)\n",
    "pd.set_option('display.max_columns', None)\n",
    "\n",
    "json_dir = \"ipl_json\"\n",
    "deliveries_data = []"
   ]
  },
  {
   "cell_type": "code",
   "execution_count": 10,
   "id": "3ece6607",
   "metadata": {},
   "outputs": [],
   "source": [
    "def extract_deliveries_info(json_file):\n",
    "    try:\n",
    "        with open(json_file, 'r') as file:\n",
    "            data = json.load(file)\n",
    "            match_info = f\"{data['info']['dates'][0]}_{data['info']['teams'][0]}_{data['info']['teams'][1]}\"\n",
    "            innings = data.get('innings', [])\n",
    "            for inning_number, inning in enumerate(innings, start=1):\n",
    "                batting_team = inning['team']\n",
    "                bowling_team = data['info']['teams'][0] if data['info']['teams'][0] != batting_team else data['info']['teams'][1]\n",
    "                for over_number, over in enumerate(inning.get('overs', []), start=1):\n",
    "                    for ball, delivery in enumerate(over.get('deliveries', []), start=1):\n",
    "                        batsman = delivery['batter']\n",
    "                        non_striker = delivery['non_striker']\n",
    "                        bowler = delivery['bowler']\n",
    "                        total_runs = delivery['runs']['total']\n",
    "                        player_dismissed = None\n",
    "                        if 'wickets' in delivery:\n",
    "                            player_dismissed = delivery['wickets'][0]['player_out']\n",
    "                        \n",
    "                        delivery_info = {\n",
    "                            'Match_ID': match_info,\n",
    "                            'Inning': inning_number,\n",
    "                            'Batting_Team': batting_team,\n",
    "                            'Bowling_Team': bowling_team,\n",
    "                            'Over': over_number,\n",
    "                            'Ball': ball,\n",
    "                            'Batsman': batsman,\n",
    "                            'Non_Striker': non_striker,\n",
    "                            'Bowler': bowler,\n",
    "                            'Total_Runs': total_runs,\n",
    "                            'Player_Dismissed': player_dismissed\n",
    "                        }\n",
    "                        deliveries_data.append(delivery_info)\n",
    "    except Exception as e:\n",
    "        print(f\"Error processing file '{json_file}': {str(e)}\")\n",
    "\n",
    "# Process each JSON file in the directory\n",
    "for filename in os.listdir(json_dir):\n",
    "    if filename.endswith(\".json\"):\n",
    "        json_file_path = os.path.join(json_dir, filename)\n",
    "        extract_deliveries_info(json_file_path)\n",
    "\n",
    "deliveries_df = pd.DataFrame(deliveries_data)\n",
    "deliveries_df[['Match_Date', 'Team1', 'Team2']] = deliveries_df['Match_ID'].str.split('_', expand=True)\n",
    "deliveries_df['Match_Date'] = pd.to_datetime(deliveries_df['Match_Date'])\n",
    "deliveries_df = deliveries_df.sort_values(by=['Match_Date', 'Match_ID', 'Inning', 'Over', 'Ball'], ascending=[False, True, True, True, True])\n",
    "deliveries_df = deliveries_df.reset_index(drop=True)\n",
    "deliveries_df = deliveries_df.drop(columns=['Team1', 'Team2'])\n",
    "deliveries_df = deliveries_df[['Match_Date', 'Inning', 'Batting_Team', 'Bowling_Team', 'Over', 'Ball', 'Batsman', 'Non_Striker', 'Bowler', 'Total_Runs', 'Player_Dismissed', 'Match_ID']]\n",
    "deliveries_df.to_csv('deliveries_info.csv', index=False)"
   ]
  }
 ],
 "metadata": {
  "kernelspec": {
   "display_name": "Python 3 (ipykernel)",
   "language": "python",
   "name": "python3"
  },
  "language_info": {
   "codemirror_mode": {
    "name": "ipython",
    "version": 3
   },
   "file_extension": ".py",
   "mimetype": "text/x-python",
   "name": "python",
   "nbconvert_exporter": "python",
   "pygments_lexer": "ipython3",
   "version": "3.11.5"
  }
 },
 "nbformat": 4,
 "nbformat_minor": 5
}
